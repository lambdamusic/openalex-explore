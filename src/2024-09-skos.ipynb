{
 "cells": [
  {
   "cell_type": "markdown",
   "metadata": {},
   "source": [
    "## Turning topics into SKOS \n",
    "\n",
    "Memo: a skos format\n",
    "\n",
    "```\n",
    "@prefix :            <http://ns.nature.com/terms/> .\n",
    "@prefix bibo:        <http://purl.org/ontology/bibo/> .\n",
    "@prefix dc:          <http://purl.org/dc/elements/1.1/> .\n",
    "@prefix dcterms:     <http://purl.org/dc/terms/> .\n",
    "@prefix foaf:        <http://xmlns.com/foaf/0.1/> .\n",
    "@prefix npg:         <http://ns.nature.com/terms/> .\n",
    "@prefix npgd:        <http://ns.nature.com/datasets/> .\n",
    "@prefix npgg:        <http://ns.nature.com/graphs/> .\n",
    "@prefix owl:         <http://www.w3.org/2002/07/owl#> .\n",
    "@prefix prism:       <http://prismstandard.org/namespaces/basic/2.1/> .\n",
    "@prefix rdf:         <http://www.w3.org/1999/02/22-rdf-syntax-ns#> .\n",
    "@prefix rdfs:        <http://www.w3.org/2000/01/rdf-schema#> .\n",
    "@prefix skos:        <http://www.w3.org/2004/02/skos/core#> .\n",
    "@prefix vann:        <http://purl.org/vocab/vann/> .\n",
    "@prefix xsd:         <http://www.w3.org/2001/XMLSchema#> .\n",
    "\n",
    "@prefix article-types: <http://ns.nature.com/article-types/> .\n",
    "\n",
    "article-types:\n",
    "    npg:webpage <http://www.nature.com/ontologies/models/article-types/> ;\n",
    "    dc:date \"2015-08-17T06:12:02.390-04:00\" ;\n",
    "    dc:publisher \"Macmillan Publishers Limited\" ;\n",
    "    dc:rights \"This work is distributed under a Creative Commons Zero 1.0 (CC0 1.0) Public Domain Dedication <http://creativecommons.org/publicdomain/zero/1.0/>.\"@en ;\n",
    "    dcterms:license <http://creativecommons.org/publicdomain/zero/1.0/> ;\n",
    "    vann:preferredNamespacePrefix \"article-types\" ;\n",
    "    vann:preferredNamespaceUri \"http://ns.nature.com/article-types/\" ;\n",
    "    a owl:Ontology, skos:ConceptScheme ;\n",
    "    owl:imports <http://ns.nature.com/terms/> ;\n",
    "    owl:versionInfo \"1.9.45\" ;\n",
    "    skos:definition \"The ArticleTypes Ontology is a categorization of kinds of publication which are used to index and group content published by Macmillan Science and Education.\"@en ;\n",
    "    skos:prefLabel \"ArticleTypes Ontology\"@en .\n",
    "\n",
    "article-types:abstracts-collection\n",
    "    npg:hasRoot article-types:news-and-comment ;\n",
    "    npg:id \"abstracts-collection\" ;\n",
    "    npg:isLeaf true ;\n",
    "    npg:isRoot false ;\n",
    "    npg:treeDepth 2 ;\n",
    "    a npg:ArticleType , skos:Concept ;\n",
    "    rdfs:isDefinedBy <http://ns.nature.com/article-types/> ;\n",
    "    skos:broader article-types:research-highlights ;\n",
    "    skos:definition \"The :abstracts-collection article-type denotes a collection of abstracts from a recent conference.\"@en ;\n",
    "    skos:inScheme <http://ns.nature.com/article-types/> ;\n",
    "    skos:prefLabel \"Abstracts Collection\"@en .\n",
    "\n",
    "```"
   ]
  }
 ],
 "metadata": {
  "kernelspec": {
   "display_name": "jupyterlab",
   "language": "python",
   "name": "python3"
  },
  "language_info": {
   "codemirror_mode": {
    "name": "ipython",
    "version": 3
   },
   "file_extension": ".py",
   "mimetype": "text/x-python",
   "name": "python",
   "nbconvert_exporter": "python",
   "pygments_lexer": "ipython3",
   "version": "3.9.16"
  }
 },
 "nbformat": 4,
 "nbformat_minor": 2
}
